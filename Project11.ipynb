{
 "cells": [
  {
   "cell_type": "code",
   "execution_count": 1,
   "id": "2da57cf7-0562-4744-ac90-5d17cb9aff64",
   "metadata": {},
   "outputs": [],
   "source": [
    "#Kaitlyn Kirt, CMOR 220, Spring 2024, Neural Networks Project\n",
    "#Project11.ipynb\n",
    "#This script uses neural networks to produce letters with arrays\n",
    "#Last Modified: April 26, 2024"
   ]
  },
  {
   "cell_type": "code",
   "execution_count": 2,
   "id": "68854937-ee77-46a6-91fc-433a36ac9aeb",
   "metadata": {},
   "outputs": [],
   "source": [
    "import numpy as np\n",
    "import matplotlib.pyplot as plt"
   ]
  },
  {
   "cell_type": "code",
   "execution_count": 3,
   "id": "de4989c8-d17c-4a30-8048-2e130d548b5e",
   "metadata": {},
   "outputs": [],
   "source": [
    "def Sigmoid(x): \n",
    "#inputs: x\n",
    "#outputs: s\n",
    "#description: this function denotes the sigmoid function and returns its value\n",
    "    s=1./(1+np.exp(0.5-x))\n",
    "    return s"
   ]
  },
  {
   "cell_type": "code",
   "execution_count": 4,
   "id": "516432ca-d08a-42ea-950e-0b5e2ab7c2b8",
   "metadata": {},
   "outputs": [],
   "source": [
    "def Modify(L):\n",
    "#inputs: L\n",
    "#outputs: L\n",
    "#description: this function modifies an array's binary structure\n",
    "    n=np.random.randint(25)\n",
    "    L=np.copy(L) #preallocate letter to be identical to another\n",
    "    #if statement flips value in L \n",
    "    if L[0,n]==0:\n",
    "        L[0,n] = 1\n",
    "    else: \n",
    "        L[0,n] = 0\n",
    "    return L"
   ]
  },
  {
   "cell_type": "code",
   "execution_count": 5,
   "id": "3f27a51c-f13b-4313-8252-612f7afaa003",
   "metadata": {},
   "outputs": [],
   "source": [
    "def NeuralTrainer(v,w,maxiter,rate,trnd,trgd):\n",
    "#inputs: v,w,maxiter,rate,trnd,trgd\n",
    "#outputs: v,w\n",
    "#description: this function goes through a gradient to recognize the letter r,i,c,e \n",
    "    for i in range (maxiter): #runs the code for maxiter times\n",
    "        rand = np.random.randint(0,np.shape(trnd)[0]-1)\n",
    "        p=np.transpose(trnd[rand,:]) #selects a certain letter to runa and train the neural trainer\n",
    "        q=Sigmoid(v@p)\n",
    "        o=Sigmoid(w@q)\n",
    "        tmp=(o-np.transpose(trgd[rand,:])) @ np.transpose(o) @ (1-o)\n",
    "        grad_w=tmp @ np.transpose(q)\n",
    "        grad_v=(np.transpose(w)*q*(1-q)) @ tmp @ np.transpose(p) \n",
    "        v=v-rate*grad_v\n",
    "        w=w-rate*grad_w\n",
    "    return v,w"
   ]
  },
  {
   "cell_type": "code",
   "execution_count": 6,
   "id": "f99d9067-94b5-4cda-85ac-cdca26e6b5cb",
   "metadata": {},
   "outputs": [],
   "source": [
    "def NeuralNetwork(trnd,trgd,maxiter,rate,L): \n",
    "#inputs: trnd,trgd,maxiter,rate\n",
    "#outputs: corrcnt\n",
    "#description: this function uses past functions and acts like a secondary driver\n",
    "    np.random.seed(0) #create a set of pseudo-random numbers \n",
    "    v1=np.random.standard_normal(size=(25,25)) #random v array\n",
    "    np.random.seed(0) #create a set of pseudo-random numbers \n",
    "    w1=np.random.standard_normal(size=(2,25)) #random w array\n",
    "    [v,w]=NeuralTrainer(v1,w1,maxiter,rate,trnd,trgd) #runs the neural trainer function\n",
    "    count=0\n",
    "    for n in range(0,100): #runs code 100 times\n",
    "        Lmod=Modify(L) \n",
    "        q=Sigmoid(v@Lmod.T)\n",
    "        val=Sigmoid(w@q)\n",
    "        if np.round(val[0])==1 and np.round(val[1])==1:\n",
    "            count=count+1\n",
    "        else:\n",
    "            count=count\n",
    "    corrcnt=(count/100)*100\n",
    "    return corrcnt"
   ]
  },
  {
   "cell_type": "code",
   "execution_count": 7,
   "id": "db0a40c5-5a3f-4812-bd07-131cf28fc023",
   "metadata": {},
   "outputs": [
    {
     "data": {
      "image/png": "[encoded data removed]",
      "text/plain": [
       "<Figure size 640x480 with 4 Axes>"
      ]
     },
     "metadata": {},
     "output_type": "display_data"
    },
    {
     "name": "stdout",
     "output_type": "stream",
     "text": [
      "Correct%=0.0\n"
     ]
    }
   ],
   "source": [
    "#driver\n",
    "r = np.array([1,1,1,1,1,1,0,0,0,1,1,0,0,0,0,1,0,0,0,0,1,0,0,0,0]) #creates the vector for r\n",
    "i = np.array([0,0,1,0,0,0,0,0,0,0,0,0,1,0,0,0,0,1,0,0,0,0,1,0,0]) #creates the vector for i\n",
    "c = np.array([1,1,1,1,1,1,0,0,0,0,1,0,0,0,0,1,0,0,0,0,1,1,1,1,1]) #creates the vector for c\n",
    "e = np.array([1,1,1,1,1,1,0,0,0,1,1,1,1,1,1,1,0,0,0,0,1,1,1,1,1]) #creates the vector for e\n",
    "\n",
    "trnd = np.array([[r],[i],[c],[e]])\n",
    "trgd = np.array([[[0,0]],[[0,1]],[[1,0]],[[1,1]]])\n",
    "\n",
    "plt.figure()\n",
    "plt.subplot(1,4,1) #plots the letter r \n",
    "plt.imshow(np.reshape(r,(5,5))) ; plt.axis('off') #reshapes to a 5x5 matrix \n",
    "plt.subplot(1,4,2) #plots the letter i\n",
    "plt.imshow(np.reshape(i,(5,5))) ; plt.axis ('off') #reshapes to a 5x5 matrix \n",
    "plt.subplot(1,4,3) #plots the letter c\n",
    "plt.imshow(np.reshape(c,(5,5))); plt.axis('off') #reshapes to a 5x5 matrix \n",
    "plt.subplot(1,4,4) #plots the letter e\n",
    "plt.imshow(np.reshape(e,(5,5))) ; plt.axis('off') #reshapes to a 5x5 matrix \n",
    "plt.show()\n",
    "\n",
    "corrcnt=NeuralNetwork(trnd,trgd,5000,0.1,trnd[3,:])\n",
    "print('Correct%=' +str(corrcnt))"
   ]
  },
  {
   "cell_type": "code",
   "execution_count": null,
   "id": "3054a716-f448-4f75-bceb-80e5e2215b1f",
   "metadata": {},
   "outputs": [],
   "source": []
  },
  {
   "cell_type": "code",
   "execution_count": null,
   "id": "d251c27b-9ef5-4a58-924c-7c1e02d90833",
   "metadata": {},
   "outputs": [],
   "source": []
  }
 ],
 "metadata": {
  "kernelspec": {
   "display_name": "Python 3 (ipykernel)",
   "language": "python",
   "name": "python3"
  },
  "language_info": {
   "codemirror_mode": {
    "name": "ipython",
    "version": 3
   },
   "file_extension": ".py",
   "mimetype": "text/x-python",
   "name": "python",
   "nbconvert_exporter": "python",
   "pygments_lexer": "ipython3",
   "version": "3.11.7"
  }
 },
 "nbformat": 4,
 "nbformat_minor": 5
}
